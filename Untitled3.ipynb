{
 "cells": [
  {
   "cell_type": "code",
   "execution_count": 48,
   "id": "26bb57ee-2df5-4e21-bb12-a00b5162afd5",
   "metadata": {},
   "outputs": [
    {
     "data": {
      "text/plain": [
       "True"
      ]
     },
     "execution_count": 48,
     "metadata": {},
     "output_type": "execute_result"
    }
   ],
   "source": [
    "### My working place is Jupyter-NoteBook, Virtual-Env\n",
    "### Bad-Eng. but english is not my first language. i try my best shot.\n",
    "\n",
    "tf.test.is_gpu_available()"
   ]
  },
  {
   "cell_type": "code",
   "execution_count": 49,
   "id": "a256e620-aa56-481e-b40b-e40819db919d",
   "metadata": {},
   "outputs": [],
   "source": [
    "import numpy as np\n",
    "import matplotlib.pyplot as plt\n",
    "from tensorflow import keras\n",
    "from keras import layers,models, optimizers\n",
    "import tensorflow as tf\n",
    "from keras.preprocessing.image import ImageDataGenerator\n",
    "\n",
    "import os, shutil, random\n",
    "import pandas as pd\n",
    "import pprint\n",
    "from collections import defaultdict"
   ]
  },
  {
   "cell_type": "code",
   "execution_count": 50,
   "id": "a9999090-8a41-49be-9e26-3004aa9d999b",
   "metadata": {},
   "outputs": [],
   "source": [
    "######1. Data Observe and Seperate.\n",
    "\n",
    "#### (Cat Data : 12500, Dog Data 12500) , (.jpg) , (cats/dogs folder independent seperate first.)\n",
    "base_dir = \"C:\\\\my_work\\\\catdog\\\\PetImages\"\n",
    "\n",
    "####Make Train, Test, validation Folder\n",
    "\n",
    "train_dir = os.path.join(base_dir, 'train')\n",
    "os.mkdir(train_dir)\n",
    "\n",
    "test_dir = os.path.join(base_dir, 'test')\n",
    "os.mkdir(test_dir)\n",
    "\n",
    "validation_dir = os.path.join(base_dir, 'validation')\n",
    "os.mkdir(validation_dir)\n",
    "\n",
    "####Make Animal Sub Folder\n",
    "\n",
    "train_cats_dir = os.path.join(train_dir, 'cats')\n",
    "os.mkdir(train_cats_dir)\n",
    "train_dogs_dir = os.path.join(train_dir, 'dogs')\n",
    "os.mkdir(train_dogs_dir)\n",
    "\n",
    "test_cats_dir = os.path.join(test_dir, 'cats')\n",
    "os.mkdir(test_cats_dir)\n",
    "test_dogs_dir = os.path.join(test_dir, 'dogs')\n",
    "os.mkdir(test_dogs_dir)\n",
    "\n",
    "validation_cats_dir = os.path.join(validation_dir, 'cats')\n",
    "os.mkdir(validation_cats_dir)\n",
    "validation_dogs_dir = os.path.join(validation_dir, 'dogs')\n",
    "os.mkdir(validation_dogs_dir)"
   ]
  },
  {
   "cell_type": "code",
   "execution_count": 51,
   "id": "ef76e611-19b1-4dba-91bb-ca903644b499",
   "metadata": {},
   "outputs": [
    {
     "name": "stdout",
     "output_type": "stream",
     "text": [
      "Skip : C:\\my_work\\catdog\\PetImages\\Cat\\666.jpg\n",
      "Skip : C:\\my_work\\catdog\\PetImages\\Dog\\11702.jpg\n"
     ]
    }
   ],
   "source": [
    "####Train(7) : VAl(2) : Test(1)\n",
    "####8750 : 2500 : 1250\n",
    "####Divide, Common : {}/{}.jpg\n",
    "\n",
    "cat_dir = \"C:\\\\my_work\\\\catdog\\\\PetImages\\\\Cat\"\n",
    "dog_dir = \"C:\\\\my_work\\\\catdog\\\\PetImages\\\\Dog\"\n",
    "\n",
    "fnames = ['{}.jpg'.format(i) for i in range(8750)]\n",
    "fnames2 = ['{}.jpg'.format(i) for i in range(8750, 11250)]\n",
    "fnames3 = ['{}.jpg'.format(i) for i in range(11250, 12499)]\n",
    "\n",
    "\n",
    "###There is two Broken files, cat/666, dog/11702\n",
    "###Solve1 : Replace with your cat or dog image name as 666.jpg, 11702.jpg\n",
    "###Solve2 : Erase it from Each folder(<- i am select this because i am to lazy make another function)\n",
    "###Solve3 : Make Function Delete File and troubled image file \n",
    "\n",
    "### Not Solve3 Way, it's Solve2 way. but check delete number, if find it continue or discover broken image.\n",
    "def Calc(src, dst):\n",
    "    try:\n",
    "        shutil.copyfile(src,dst)\n",
    "    except FileNotFoundError:\n",
    "        print(f\"Skip : {src}\")\n",
    "    except Exception as e:\n",
    "        print(f\"Broken : {src} -> {e}\")\n",
    "\n",
    "###Cat First\n",
    "\n",
    "for fname in fnames:\n",
    "    Calc(os.path.join(cat_dir, fname), os.path.join(train_cats_dir, fname))\n",
    "\n",
    "for fname in fnames2:\n",
    "     Calc(os.path.join(cat_dir, fname), os.path.join(validation_cats_dir, fname))\n",
    "\n",
    "for fname in fnames3:\n",
    "     Calc(os.path.join(cat_dir, fname), os.path.join(test_cats_dir, fname))\n",
    "\n",
    "\n",
    "###Dog Second\n",
    "\n",
    "for fname in fnames:\n",
    "     Calc(os.path.join(dog_dir, fname), os.path.join(train_dogs_dir, fname))\n",
    "\n",
    "for fname in fnames2:\n",
    "     Calc(os.path.join(dog_dir, fname), os.path.join(validation_dogs_dir, fname))\n",
    "\n",
    "for fname in fnames3:\n",
    "     Calc(os.path.join(dog_dir, fname), os.path.join(test_dogs_dir, fname))\n",
    "    \n",
    "######1. Data Observe and Seperate Done!!"
   ]
  },
  {
   "cell_type": "code",
   "execution_count": 52,
   "id": "829af714-46e6-4aa9-b3fd-c3b20fea8ceb",
   "metadata": {},
   "outputs": [],
   "source": [
    "######2. Network\n",
    "\n",
    "#### Binary Class, Dense 1 layer, Sigmoid. Set image(150.150.BGR)\n",
    "#### Sigmoid = Binary Cross entropy\n",
    "\n",
    "model = models.Sequential()\n",
    "model.add(layers.Conv2D(32, (3,3), activation='relu', input_shape=(150,150,3)))\n",
    "model.add(layers.MaxPooling2D((2,2)))\n",
    "model.add(layers.Conv2D(64, (3,3), activation='relu'))\n",
    "model.add(layers.MaxPooling2D((2,2)))\n",
    "model.add(layers.Conv2D(128, (3,3), activation='relu'))\n",
    "model.add(layers.MaxPooling2D(2,2))\n",
    "model.add(layers.Conv2D(128, (3,3), activation='relu'))\n",
    "model.add(layers.MaxPooling2D(2,2))\n",
    "model.add(layers.Flatten())\n",
    "model.add(laters.Dropout(0.5))\n",
    "model.add(layers.Dense(512,activation='relu'))\n",
    "model.add(layers.Dense(1, activation='sigmoid'))\n",
    "\n",
    "model.compile(loss='binary_crossentropy',\n",
    "             optimizer=optimizers.RMSprop(learning_rate=1e-4),\n",
    "             metrics=['acc'])"
   ]
  },
  {
   "cell_type": "code",
   "execution_count": 53,
   "id": "508aeb9c-9106-4f24-8967-4cd06792c6cf",
   "metadata": {},
   "outputs": [
    {
     "name": "stdout",
     "output_type": "stream",
     "text": [
      "Model: \"sequential_8\"\n",
      "_________________________________________________________________\n",
      " Layer (type)                Output Shape              Param #   \n",
      "=================================================================\n",
      " conv2d_30 (Conv2D)          (None, 148, 148, 32)      896       \n",
      "                                                                 \n",
      " max_pooling2d_30 (MaxPoolin  (None, 74, 74, 32)       0         \n",
      " g2D)                                                            \n",
      "                                                                 \n",
      " conv2d_31 (Conv2D)          (None, 72, 72, 64)        18496     \n",
      "                                                                 \n",
      " max_pooling2d_31 (MaxPoolin  (None, 36, 36, 64)       0         \n",
      " g2D)                                                            \n",
      "                                                                 \n",
      " conv2d_32 (Conv2D)          (None, 34, 34, 128)       73856     \n",
      "                                                                 \n",
      " max_pooling2d_32 (MaxPoolin  (None, 17, 17, 128)      0         \n",
      " g2D)                                                            \n",
      "                                                                 \n",
      " conv2d_33 (Conv2D)          (None, 15, 15, 128)       147584    \n",
      "                                                                 \n",
      " max_pooling2d_33 (MaxPoolin  (None, 7, 7, 128)        0         \n",
      " g2D)                                                            \n",
      "                                                                 \n",
      " flatten_7 (Flatten)         (None, 6272)              0         \n",
      "                                                                 \n",
      " dense_14 (Dense)            (None, 512)               3211776   \n",
      "                                                                 \n",
      " dense_15 (Dense)            (None, 1)                 513       \n",
      "                                                                 \n",
      "=================================================================\n",
      "Total params: 3,453,121\n",
      "Trainable params: 3,453,121\n",
      "Non-trainable params: 0\n",
      "_________________________________________________________________\n"
     ]
    }
   ],
   "source": [
    "model.summary()\n",
    "\n",
    "###### 2. NetWork Done!!"
   ]
  },
  {
   "cell_type": "code",
   "execution_count": 63,
   "id": "4372b894-42e3-4dc8-aaa5-5fb06efe6d69",
   "metadata": {},
   "outputs": [
    {
     "name": "stdout",
     "output_type": "stream",
     "text": [
      "Found 17499 images belonging to 2 classes.\n",
      "Found 5000 images belonging to 2 classes.\n"
     ]
    }
   ],
   "source": [
    "######3. Data Preprocess\n",
    "\n",
    "train_datagen = ImageDataGenerator(\n",
    "    rescale=1./255,\n",
    "    rotation_range = 30,\n",
    "    width_shift_range = 0.1,\n",
    "    height_shift_range = 0.1,\n",
    "    shear_range = 0.2,\n",
    "    zoom_range= 0.2,\n",
    "    horizontal_flip=True)\n",
    "\n",
    "test_datagen = ImageDataGenerator(rescale=1./255)\n",
    "\n",
    "train_generator = train_datagen.flow_from_directory(\n",
    "    train_dir,\n",
    "    target_size = (150,150),\n",
    "    batch_size = 32,\n",
    "    class_mode = 'binary',\n",
    "    classes=None,\n",
    "    subset=None)\n",
    "\n",
    "validation_generator = test_datagen.flow_from_directory(\n",
    "    validation_dir,\n",
    "    target_size = (150,150),\n",
    "    batch_size = 32,\n",
    "    class_mode = 'binary',\n",
    "    classes=None,\n",
    "    subset=None)"
   ]
  },
  {
   "cell_type": "code",
   "execution_count": 55,
   "id": "73fb8cf4-8a34-4294-a373-a2c5b8427dac",
   "metadata": {},
   "outputs": [
    {
     "name": "stdout",
     "output_type": "stream",
     "text": [
      "Epoch 1/30\n",
      "100/100 [==============================] - 8s 69ms/step - loss: 0.6896 - acc: 0.5280 - val_loss: 0.6907 - val_acc: 0.5110\n",
      "Epoch 2/30\n",
      "100/100 [==============================] - 7s 65ms/step - loss: 0.6572 - acc: 0.6060 - val_loss: 0.6552 - val_acc: 0.5690\n",
      "Epoch 3/30\n",
      "100/100 [==============================] - 7s 66ms/step - loss: 0.6345 - acc: 0.6315 - val_loss: 0.6069 - val_acc: 0.6880\n",
      "Epoch 4/30\n",
      "100/100 [==============================] - 7s 67ms/step - loss: 0.6115 - acc: 0.6625 - val_loss: 0.5884 - val_acc: 0.6910\n",
      "Epoch 5/30\n",
      "100/100 [==============================] - 7s 67ms/step - loss: 0.5901 - acc: 0.6815 - val_loss: 0.5913 - val_acc: 0.6860\n",
      "Epoch 6/30\n",
      "100/100 [==============================] - 7s 66ms/step - loss: 0.5831 - acc: 0.6870 - val_loss: 0.5433 - val_acc: 0.7300\n",
      "Epoch 7/30\n",
      "100/100 [==============================] - 7s 65ms/step - loss: 0.5606 - acc: 0.7140 - val_loss: 0.5278 - val_acc: 0.7240\n",
      "Epoch 8/30\n",
      "100/100 [==============================] - 7s 65ms/step - loss: 0.5476 - acc: 0.7265 - val_loss: 0.5564 - val_acc: 0.7200\n",
      "Epoch 9/30\n",
      "100/100 [==============================] - 7s 64ms/step - loss: 0.5287 - acc: 0.7340 - val_loss: 0.5003 - val_acc: 0.7580\n",
      "Epoch 10/30\n",
      "100/100 [==============================] - 7s 65ms/step - loss: 0.5272 - acc: 0.7430 - val_loss: 0.5119 - val_acc: 0.7520\n",
      "Epoch 11/30\n",
      "100/100 [==============================] - 7s 66ms/step - loss: 0.5162 - acc: 0.7455 - val_loss: 0.4879 - val_acc: 0.7580\n",
      "Epoch 12/30\n",
      "100/100 [==============================] - 7s 65ms/step - loss: 0.4990 - acc: 0.7595 - val_loss: 0.4790 - val_acc: 0.7720\n",
      "Epoch 13/30\n",
      "100/100 [==============================] - 7s 64ms/step - loss: 0.4923 - acc: 0.7580 - val_loss: 0.4797 - val_acc: 0.7620\n",
      "Epoch 14/30\n",
      "100/100 [==============================] - 7s 64ms/step - loss: 0.4729 - acc: 0.7605 - val_loss: 0.4931 - val_acc: 0.7480\n",
      "Epoch 15/30\n",
      "100/100 [==============================] - 7s 64ms/step - loss: 0.4710 - acc: 0.7795 - val_loss: 0.4781 - val_acc: 0.7590\n",
      "Epoch 16/30\n",
      "100/100 [==============================] - 7s 65ms/step - loss: 0.4772 - acc: 0.7735 - val_loss: 0.5087 - val_acc: 0.7580\n",
      "Epoch 17/30\n",
      "100/100 [==============================] - 7s 65ms/step - loss: 0.4772 - acc: 0.7685 - val_loss: 0.4511 - val_acc: 0.7830\n",
      "Epoch 18/30\n",
      "100/100 [==============================] - 7s 65ms/step - loss: 0.4659 - acc: 0.7815 - val_loss: 0.5388 - val_acc: 0.7250\n",
      "Epoch 19/30\n",
      "100/100 [==============================] - 7s 65ms/step - loss: 0.4429 - acc: 0.7940 - val_loss: 0.4914 - val_acc: 0.7650\n",
      "Epoch 20/30\n",
      "100/100 [==============================] - 7s 66ms/step - loss: 0.4496 - acc: 0.7880 - val_loss: 0.4594 - val_acc: 0.7810\n",
      "Epoch 21/30\n",
      "100/100 [==============================] - 7s 66ms/step - loss: 0.4500 - acc: 0.7745 - val_loss: 0.4253 - val_acc: 0.8000\n",
      "Epoch 22/30\n",
      "100/100 [==============================] - 7s 65ms/step - loss: 0.4320 - acc: 0.8065 - val_loss: 0.4618 - val_acc: 0.7730\n",
      "Epoch 23/30\n",
      "100/100 [==============================] - 7s 65ms/step - loss: 0.4345 - acc: 0.8015 - val_loss: 0.4447 - val_acc: 0.7940\n",
      "Epoch 24/30\n",
      "100/100 [==============================] - 7s 65ms/step - loss: 0.4253 - acc: 0.8105 - val_loss: 0.4286 - val_acc: 0.7990\n",
      "Epoch 25/30\n",
      "100/100 [==============================] - 7s 65ms/step - loss: 0.4110 - acc: 0.8150 - val_loss: 0.5201 - val_acc: 0.7530\n",
      "Epoch 26/30\n",
      "100/100 [==============================] - 7s 65ms/step - loss: 0.4363 - acc: 0.8070 - val_loss: 0.4184 - val_acc: 0.8040\n",
      "Epoch 27/30\n",
      "100/100 [==============================] - 7s 64ms/step - loss: 0.3943 - acc: 0.8200 - val_loss: 0.3961 - val_acc: 0.8240\n",
      "Epoch 28/30\n",
      "100/100 [==============================] - 7s 64ms/step - loss: 0.3829 - acc: 0.8255 - val_loss: 0.4146 - val_acc: 0.8110\n",
      "Epoch 29/30\n",
      "100/100 [==============================] - 7s 65ms/step - loss: 0.3885 - acc: 0.8240 - val_loss: 0.4243 - val_acc: 0.7970\n",
      "Epoch 30/30\n",
      "100/100 [==============================] - 7s 65ms/step - loss: 0.3935 - acc: 0.8185 - val_loss: 0.4182 - val_acc: 0.8180\n"
     ]
    }
   ],
   "source": [
    "######4. Train\n",
    "\n",
    "history = model.fit(\n",
    "    train_generator,\n",
    "    steps_per_epoch = 100,\n",
    "    epochs = 30,\n",
    "    validation_data = validation_generator,\n",
    "    validation_steps = 50)"
   ]
  },
  {
   "cell_type": "code",
   "execution_count": 56,
   "id": "0139455f-8d17-4a79-8d8b-9445bbe12472",
   "metadata": {},
   "outputs": [],
   "source": [
    "######5. Save \n",
    "\n",
    "##### Let's Make Fun begin! if wanna check RealTime Webcam on VisualCode Using CatandDog Go To result Line!\n",
    "##### Not use YOLO or Cascade way only use ROI Way! \n",
    "\n",
    "model.save('CatandDog.h5')"
   ]
  },
  {
   "cell_type": "code",
   "execution_count": 58,
   "id": "fa97fe5e-367a-484c-b95a-3f1240675ef1",
   "metadata": {},
   "outputs": [
    {
     "data": {
      "image/png": "[encoded data removed]",
      "text/plain": [
       "<Figure size 640x480 with 1 Axes>"
      ]
     },
     "metadata": {},
     "output_type": "display_data"
    },
    {
     "data": {
      "image/png": "[encoded data removed]",
      "text/plain": [
       "<Figure size 640x480 with 1 Axes>"
      ]
     },
     "metadata": {},
     "output_type": "display_data"
    }
   ],
   "source": [
    "###### 6. Check Graph\n",
    "\n",
    "acc = history.history['acc']\n",
    "val_acc = history.history['val_acc']\n",
    "loss = history.history['loss']\n",
    "val_loss = history.history['val_loss']\n",
    "\n",
    "epochs = range(1, len(acc) + 1)\n",
    "\n",
    "plt.plot(epochs, acc, 'bo', label='Train acc')\n",
    "plt.plot(epochs, val_acc, 'b', label='Val acc')\n",
    "plt.title('Train & Val acc')\n",
    "plt.legend()\n",
    "\n",
    "plt.figure()\n",
    "\n",
    "plt.plot(epochs, loss, 'bo', label='Train loss')\n",
    "plt.plot(epochs, val_loss, 'b', label='Val loss')\n",
    "plt.title('Train & Val loss')\n",
    "plt.legend()\n",
    "\n",
    "plt.show()"
   ]
  },
  {
   "cell_type": "code",
   "execution_count": null,
   "id": "7676cd38-03e9-41cf-b12a-1b4d1baa668d",
   "metadata": {},
   "outputs": [],
   "source": []
  },
  {
   "cell_type": "code",
   "execution_count": null,
   "id": "c600cceb-5c27-4d7e-b3f8-ca3a1e9555a3",
   "metadata": {},
   "outputs": [],
   "source": []
  },
  {
   "cell_type": "code",
   "execution_count": null,
   "id": "202248fa-0dc7-451c-b38a-abeeeac2dc26",
   "metadata": {},
   "outputs": [],
   "source": []
  },
  {
   "cell_type": "code",
   "execution_count": null,
   "id": "85479429-80ce-438c-b4b6-4d5b0847c6ec",
   "metadata": {},
   "outputs": [],
   "source": []
  },
  {
   "cell_type": "code",
   "execution_count": null,
   "id": "442950ed-30e1-4ba2-9669-fa2034039068",
   "metadata": {},
   "outputs": [],
   "source": []
  },
  {
   "cell_type": "code",
   "execution_count": null,
   "id": "d98be9f0-e6d6-4459-8b9b-2817b8b53d2b",
   "metadata": {},
   "outputs": [],
   "source": []
  },
  {
   "cell_type": "code",
   "execution_count": null,
   "id": "379d3034-a7e1-49bf-9eac-db7f4fd45e0b",
   "metadata": {},
   "outputs": [],
   "source": []
  },
  {
   "cell_type": "code",
   "execution_count": null,
   "id": "60571826-83c0-4a5f-af38-6022070b1eb9",
   "metadata": {},
   "outputs": [],
   "source": []
  },
  {
   "cell_type": "code",
   "execution_count": null,
   "id": "61b6a0e9-ac77-43d8-bfa5-215fab1817e7",
   "metadata": {},
   "outputs": [],
   "source": []
  },
  {
   "cell_type": "code",
   "execution_count": null,
   "id": "c52d541c-4b2a-4c08-95ba-4d099811f1d5",
   "metadata": {},
   "outputs": [],
   "source": []
  }
 ],
 "metadata": {
  "kernelspec": {
   "display_name": "py3_10",
   "language": "python",
   "name": "py3_10"
  },
  "language_info": {
   "codemirror_mode": {
    "name": "ipython",
    "version": 3
   },
   "file_extension": ".py",
   "mimetype": "text/x-python",
   "name": "python",
   "nbconvert_exporter": "python",
   "pygments_lexer": "ipython3",
   "version": "3.10.0"
  }
 },
 "nbformat": 4,
 "nbformat_minor": 5
}
