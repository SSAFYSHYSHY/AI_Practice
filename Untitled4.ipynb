{
 "cells": [
  {
   "cell_type": "code",
   "execution_count": 7,
   "id": "437e1b24-4324-4a25-ba7a-eb8e8f5ab342",
   "metadata": {},
   "outputs": [],
   "source": [
    "import numpy as np\n",
    "import tensorflow as tf\n",
    "import matplotlib as plt\n",
    "\n",
    "from tensorflow import keras\n",
    "from keras import layers,models, optimizers\n",
    "\n",
    "import os,shutil,random\n",
    "import pandas as pd\n"
   ]
  },
  {
   "cell_type": "code",
   "execution_count": 3,
   "id": "be41e694-c6b4-4d44-aaca-3513d4a6b823",
   "metadata": {},
   "outputs": [
    {
     "name": "stdout",
     "output_type": "stream",
     "text": [
      "WARNING:tensorflow:From C:\\Users\\tpshy\\AppData\\Local\\Temp\\ipykernel_30800\\337460670.py:1: is_gpu_available (from tensorflow.python.framework.test_util) is deprecated and will be removed in a future version.\n",
      "Instructions for updating:\n",
      "Use `tf.config.list_physical_devices('GPU')` instead.\n"
     ]
    },
    {
     "data": {
      "text/plain": [
       "True"
      ]
     },
     "execution_count": 3,
     "metadata": {},
     "output_type": "execute_result"
    }
   ],
   "source": [
    "tf.test.is_gpu_available()"
   ]
  },
  {
   "cell_type": "code",
   "execution_count": 10,
   "id": "0737ff1d-c5ce-42a6-8f1b-19cba0596ce7",
   "metadata": {},
   "outputs": [
    {
     "name": "stdout",
     "output_type": "stream",
     "text": [
      "Cancer train 42\n",
      "Cancer test 42\n",
      "Non train 42\n",
      "Non test 162\n"
     ]
    },
    {
     "ename": "FileExistsError",
     "evalue": "[WinError 183] 파일이 이미 있으므로 만들 수 없습니다: 'C:\\\\my_work\\\\Skin_Data\\\\Cancer'",
     "output_type": "error",
     "traceback": [
      "\u001b[1;31m---------------------------------------------------------------------------\u001b[0m",
      "\u001b[1;31mFileExistsError\u001b[0m                           Traceback (most recent call last)",
      "Cell \u001b[1;32mIn[10], line 27\u001b[0m\n\u001b[0;32m     25\u001b[0m \u001b[38;5;66;03m###Make Validation Folder\u001b[39;00m\n\u001b[0;32m     26\u001b[0m cancer_validation_dir \u001b[38;5;241m=\u001b[39m os\u001b[38;5;241m.\u001b[39mpath\u001b[38;5;241m.\u001b[39mjoin(base_dir, \u001b[38;5;124m'\u001b[39m\u001b[38;5;124mCancer\u001b[39m\u001b[38;5;124m'\u001b[39m)\n\u001b[1;32m---> 27\u001b[0m \u001b[43mos\u001b[49m\u001b[38;5;241;43m.\u001b[39;49m\u001b[43mmkdir\u001b[49m\u001b[43m(\u001b[49m\u001b[43mcancer_validation_dir\u001b[49m\u001b[43m)\u001b[49m\n\u001b[0;32m     29\u001b[0m non_validation_dir \u001b[38;5;241m=\u001b[39m os\u001b[38;5;241m.\u001b[39mpath\u001b[38;5;241m.\u001b[39mjoin(base_dir, \u001b[38;5;124m'\u001b[39m\u001b[38;5;124mNon_Cancer\u001b[39m\u001b[38;5;124m'\u001b[39m)\n\u001b[0;32m     30\u001b[0m os\u001b[38;5;241m.\u001b[39mmkdir(non_validation_dir)\n",
      "\u001b[1;31mFileExistsError\u001b[0m: [WinError 183] 파일이 이미 있으므로 만들 수 없습니다: 'C:\\\\my_work\\\\Skin_Data\\\\Cancer'"
     ]
    }
   ],
   "source": [
    "######1. Data observe and seperate\n",
    "\n",
    "###Check Number\n",
    "def count_files(dir):\n",
    "    return len([\n",
    "        f for f in os.listdir(dir)\n",
    "        if os.path.isfile(os.path.join(dir, f))\n",
    "    ])\n",
    "    \n",
    "base_dir = \"C:\\\\my_work\\\\Skin_Data\"\n",
    "\n",
    "cancer_train_dir = os.path.join(base_dir, \"Cancer\",\"Training\")\n",
    "cancer_test_dir = os.path.join(base_dir, \"Cancer\",\"Testing\")\n",
    "\n",
    "non_train_dir = os.path.join(base_dir, \"Non_Cancer\",\"Training\")\n",
    "non_test_dir = os.path.join(base_dir, \"Non_Cancer\",\"Testing\")\n",
    "\n",
    "print(\"Cancer train\", count_files(cancer_train_dir))\n",
    "print(\"Cancer test\", count_files(cancer_test_dir))\n",
    "\n",
    "print(\"Non train\", count_files(non_train_dir))\n",
    "print(\"Non test\", count_files(non_test_dir))\n",
    "\n",
    "\n",
    "###Make Validation Folder\n",
    "cancer_validation_dir = os.path.join(\"C:\\\\m\", 'validation')\n",
    "os.mkdir(cancer_validation_dir)\n",
    "\n",
    "non_validation_dir = os.path.join(base_dir, 'validation')\n",
    "os.mkdir(non_validation_dir)"
   ]
  },
  {
   "cell_type": "code",
   "execution_count": null,
   "id": "eefa5f32-2b00-4e95-b1e3-b9abcc68cc89",
   "metadata": {},
   "outputs": [],
   "source": [
    "###Data is So little, need expansion, set non_cancer on focus.\n",
    "###Even some data is broken!\n",
    "### 7(train), 2(val), 1(test) : 1120, 320, 160 Data\n",
    "\n",
    "######1.2 Data Expansion\n",
    "\n",
    "###해당 폴더의 이미지들을 잡기.\n",
    "def Catch(dir):\n",
    "    glob.glob(os.path.join(dir, \"*.jpg\"))\n",
    "\n",
    "###수 불리기.\n",
    "###Non , Cancer Train에 28배의 데이터 증강.\n",
    "###Cander Test에만 4배의 데이터 증강.\n",
    "def Add():\n",
    "    i = 0\n",
    "    for batch in datagen.flow(x, batch_size = 1):\n",
    "        plt.figure(i)\n",
    "        i += 1\n",
    "        \n",
    "        if i % 4 == 0:\n",
    "            break\n",
    "\n",
    "###Train데이터중 320개는 Validation 폴더로 전달.\n",
    "def Divide():"
   ]
  }
 ],
 "metadata": {
  "kernelspec": {
   "display_name": "py3_10",
   "language": "python",
   "name": "py3_10"
  },
  "language_info": {
   "codemirror_mode": {
    "name": "ipython",
    "version": 3
   },
   "file_extension": ".py",
   "mimetype": "text/x-python",
   "name": "python",
   "nbconvert_exporter": "python",
   "pygments_lexer": "ipython3",
   "version": "3.10.0"
  }
 },
 "nbformat": 4,
 "nbformat_minor": 5
}
