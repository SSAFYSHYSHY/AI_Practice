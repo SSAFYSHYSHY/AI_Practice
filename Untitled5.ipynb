{
 "cells": [
  {
   "cell_type": "code",
   "execution_count": 1,
   "id": "0ca80cc1-236f-4e2a-95bb-c320eff8f243",
   "metadata": {},
   "outputs": [],
   "source": [
    "import os \n",
    "import shutil, random\n",
    "import pandas as pd\n",
    "\n",
    "import numpy as np\n",
    "from tensorflow import keras\n",
    "from keras import layers, models, optimizers\n",
    "import tensorflow as tf\n",
    "from keras.preprocessing.image import ImageDataGenerator\n",
    "\n"
   ]
  },
  {
   "cell_type": "code",
   "execution_count": 3,
   "id": "7aa4ed3a-9f6d-4f28-bc3a-9e197c4e9642",
   "metadata": {},
   "outputs": [
    {
     "data": {
      "text/plain": [
       "[PhysicalDevice(name='/physical_device:GPU:0', device_type='GPU')]"
      ]
     },
     "execution_count": 3,
     "metadata": {},
     "output_type": "execute_result"
    }
   ],
   "source": [
    "tf.config.list_physical_devices('GPU')"
   ]
  },
  {
   "cell_type": "code",
   "execution_count": null,
   "id": "4a450ce7-e253-4f00-b3f1-32028ce954e5",
   "metadata": {},
   "outputs": [],
   "source": [
    "base_dir = \"C:\\my_work\\model\"\n",
    "\n",
    "train_dir = os.path.join(base_dir, 'train')\n",
    "test_dir = os.path.join(base_dir, 'test')\n",
    "validation_dir = os.path.join(base_dir, 'validation')\n",
    "\n",
    "train_goody_dir = os.path.join(train_dir, 'goody')\n",
    "train_bedy_dir = os.path.join(train_dir, 'bedy')\n",
    "\n",
    "test_goody_dir = os.path.join(test_dir, 'goody')\n",
    "test_bedy_dir = os.path.join(test_dir, 'bedy')\n",
    "\n",
    "validation_goody_dir = os.path.join(validation_dir, 'goody')\n",
    "validation_bedy_dir = os.path.join(validation_dir, 'bedy')\n",
    "\n"
   ]
  }
 ],
 "metadata": {
  "kernelspec": {
   "display_name": "py3_10",
   "language": "python",
   "name": "py3_10"
  },
  "language_info": {
   "codemirror_mode": {
    "name": "ipython",
    "version": 3
   },
   "file_extension": ".py",
   "mimetype": "text/x-python",
   "name": "python",
   "nbconvert_exporter": "python",
   "pygments_lexer": "ipython3",
   "version": "3.10.0"
  }
 },
 "nbformat": 4,
 "nbformat_minor": 5
}
