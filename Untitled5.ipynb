{
 "cells": [
  {
   "cell_type": "code",
   "execution_count": 1,
   "id": "0ca80cc1-236f-4e2a-95bb-c320eff8f243",
   "metadata": {},
   "outputs": [],
   "source": [
    "import os \n",
    "import shutil, random\n",
    "import pandas as pd\n",
    "\n",
    "import numpy as np\n",
    "from tensorflow import keras\n",
    "from keras import layers, models, optimizers\n",
    "import tensorflow as tf\n",
    "from keras.preprocessing.image import ImageDataGenerator\n",
    "\n"
   ]
  },
  {
   "cell_type": "code",
   "execution_count": 2,
   "id": "7aa4ed3a-9f6d-4f28-bc3a-9e197c4e9642",
   "metadata": {},
   "outputs": [
    {
     "data": {
      "text/plain": [
       "[PhysicalDevice(name='/physical_device:GPU:0', device_type='GPU')]"
      ]
     },
     "execution_count": 2,
     "metadata": {},
     "output_type": "execute_result"
    }
   ],
   "source": [
    "tf.config.list_physical_devices('GPU')"
   ]
  },
  {
   "cell_type": "code",
   "execution_count": 3,
   "id": "4a450ce7-e253-4f00-b3f1-32028ce954e5",
   "metadata": {},
   "outputs": [],
   "source": [
    "base_dir = \"C:\\my_work\\model\"\n",
    "\n",
    "train_dir = os.path.join(base_dir, 'train')\n",
    "test_dir = os.path.join(base_dir, 'test')\n",
    "validation_dir = os.path.join(base_dir, 'validation')\n",
    "\n",
    "train_goody_dir = os.path.join(train_dir, 'goody')\n",
    "train_bedy_dir = os.path.join(train_dir, 'bedy')\n",
    "\n",
    "test_goody_dir = os.path.join(test_dir, 'goody')\n",
    "test_bedy_dir = os.path.join(test_dir, 'bedy')\n",
    "\n",
    "validation_goody_dir = os.path.join(validation_dir, 'goody')\n",
    "validation_bedy_dir = os.path.join(validation_dir, 'bedy')"
   ]
  },
  {
   "cell_type": "code",
   "execution_count": 4,
   "id": "9f32d9c2-578a-464e-b0cf-70c8796b9330",
   "metadata": {},
   "outputs": [],
   "source": [
    "def conv_block(filters):\n",
    "    return [\n",
    "        layers.Conv2D(filters, (3,3), activation='relu', padding ='same'),\n",
    "        layers.BatchNormalization(),\n",
    "        layers.MaxPooling2D(2,2)\n",
    "    ]\n",
    "\n",
    "model = models.Sequential()\n",
    "model.add(layers.Input(shape=(480,480,3)))\n",
    "\n",
    "for i in [32,64,128,128]:\n",
    "    for layer in conv_block(i):\n",
    "        model.add(layer)\n",
    "\n",
    "model.add(layers.Flatten())\n",
    "model.add(layers.Dropout(0.3))\n",
    "model.add(layers.Dense(512,activation='relu'))\n",
    "model.add(layers.Dense(1, activation='sigmoid'))\n",
    "\n",
    "model.compile(loss='binary_crossentropy',\n",
    "             optimizer='adam',\n",
    "             metrics=['acc'])"
   ]
  },
  {
   "cell_type": "code",
   "execution_count": 5,
   "id": "8e09e5d9-4cff-4619-9e47-f01636d61fe8",
   "metadata": {},
   "outputs": [
    {
     "name": "stdout",
     "output_type": "stream",
     "text": [
      "Model: \"sequential\"\n",
      "_________________________________________________________________\n",
      " Layer (type)                Output Shape              Param #   \n",
      "=================================================================\n",
      " conv2d (Conv2D)             (None, 480, 480, 32)      896       \n",
      "                                                                 \n",
      " batch_normalization (BatchN  (None, 480, 480, 32)     128       \n",
      " ormalization)                                                   \n",
      "                                                                 \n",
      " max_pooling2d (MaxPooling2D  (None, 240, 240, 32)     0         \n",
      " )                                                               \n",
      "                                                                 \n",
      " conv2d_1 (Conv2D)           (None, 240, 240, 64)      18496     \n",
      "                                                                 \n",
      " batch_normalization_1 (Batc  (None, 240, 240, 64)     256       \n",
      " hNormalization)                                                 \n",
      "                                                                 \n",
      " max_pooling2d_1 (MaxPooling  (None, 120, 120, 64)     0         \n",
      " 2D)                                                             \n",
      "                                                                 \n",
      " conv2d_2 (Conv2D)           (None, 120, 120, 128)     73856     \n",
      "                                                                 \n",
      " batch_normalization_2 (Batc  (None, 120, 120, 128)    512       \n",
      " hNormalization)                                                 \n",
      "                                                                 \n",
      " max_pooling2d_2 (MaxPooling  (None, 60, 60, 128)      0         \n",
      " 2D)                                                             \n",
      "                                                                 \n",
      " conv2d_3 (Conv2D)           (None, 60, 60, 128)       147584    \n",
      "                                                                 \n",
      " batch_normalization_3 (Batc  (None, 60, 60, 128)      512       \n",
      " hNormalization)                                                 \n",
      "                                                                 \n",
      " max_pooling2d_3 (MaxPooling  (None, 30, 30, 128)      0         \n",
      " 2D)                                                             \n",
      "                                                                 \n",
      " flatten (Flatten)           (None, 115200)            0         \n",
      "                                                                 \n",
      " dropout (Dropout)           (None, 115200)            0         \n",
      "                                                                 \n",
      " dense (Dense)               (None, 512)               58982912  \n",
      "                                                                 \n",
      " dense_1 (Dense)             (None, 1)                 513       \n",
      "                                                                 \n",
      "=================================================================\n",
      "Total params: 59,225,665\n",
      "Trainable params: 59,224,961\n",
      "Non-trainable params: 704\n",
      "_________________________________________________________________\n"
     ]
    }
   ],
   "source": [
    "model.summary()"
   ]
  },
  {
   "cell_type": "code",
   "execution_count": 6,
   "id": "63b0960d-2bb6-4c2d-8640-642ecc5c9ee3",
   "metadata": {},
   "outputs": [
    {
     "name": "stdout",
     "output_type": "stream",
     "text": [
      "Found 700 images belonging to 2 classes.\n",
      "Found 200 images belonging to 2 classes.\n"
     ]
    }
   ],
   "source": [
    "train_datagen = ImageDataGenerator(\n",
    "    rescale=1./255,\n",
    "    rotation_range = 40,\n",
    "    width_shift_range = 0.2,\n",
    "    height_shift_range = 0.2,\n",
    "    shear_range = 0.2,\n",
    "    zoom_range = 0.2,\n",
    "    horizontal_flip = True\n",
    ")\n",
    "\n",
    "test_datagen = ImageDataGenerator(rescale=1./255)\n",
    "\n",
    "train_generator = train_datagen.flow_from_directory(\n",
    "    train_dir,\n",
    "    target_size = (480,480),\n",
    "    batch_size = 32,\n",
    "    class_mode= 'binary',\n",
    "    classes = None,\n",
    "    subset= None\n",
    ")\n",
    "\n",
    "validation_generator = test_datagen.flow_from_directory(\n",
    "    validation_dir,\n",
    "    target_size = (480,480),\n",
    "    batch_size = 32,\n",
    "    class_mode= 'binary',\n",
    "    classes = None,\n",
    "    subset= None\n",
    ")"
   ]
  },
  {
   "cell_type": "code",
   "execution_count": 11,
   "id": "b03c5a4b-ee77-4616-a2f1-4e9530b3453b",
   "metadata": {},
   "outputs": [
    {
     "name": "stdout",
     "output_type": "stream",
     "text": [
      "Epoch 1/30\n",
      " 22/100 [=====>........................] - ETA: 6:58 - loss: 10.1860 - acc: 0.7214WARNING:tensorflow:Your input ran out of data; interrupting training. Make sure that your dataset or generator can generate at least `steps_per_epoch * epochs` batches (in this case, 3000 batches). You may need to use the repeat() function when building your dataset.\n",
      "WARNING:tensorflow:Your input ran out of data; interrupting training. Make sure that your dataset or generator can generate at least `steps_per_epoch * epochs` batches (in this case, 50 batches). You may need to use the repeat() function when building your dataset.\n",
      "100/100 [==============================] - 166s 2s/step - loss: 10.1860 - acc: 0.7214 - val_loss: 27.0137 - val_acc: 0.5000\n"
     ]
    }
   ],
   "source": [
    "## Train_data // batch_size\n",
    "## Validation_data // batch_size \n",
    "\n",
    "history = model.fit(\n",
    "    train_generator,\n",
    "    steps_per_epoch=21,\n",
    "    epochs= 30,\n",
    "    validation_data = validation_generator,\n",
    "    validation_steps = 6)"
   ]
  },
  {
   "cell_type": "code",
   "execution_count": 12,
   "id": "d02530f3-c639-40b4-a1b2-efcc3b0824ad",
   "metadata": {},
   "outputs": [],
   "source": [
    "model.save('image_model.h5')"
   ]
  },
  {
   "cell_type": "code",
   "execution_count": null,
   "id": "58c572f6-bbee-4540-8382-c9c995cf1c4b",
   "metadata": {},
   "outputs": [],
   "source": []
  }
 ],
 "metadata": {
  "kernelspec": {
   "display_name": "py3_10",
   "language": "python",
   "name": "py3_10"
  },
  "language_info": {
   "codemirror_mode": {
    "name": "ipython",
    "version": 3
   },
   "file_extension": ".py",
   "mimetype": "text/x-python",
   "name": "python",
   "nbconvert_exporter": "python",
   "pygments_lexer": "ipython3",
   "version": "3.10.0"
  }
 },
 "nbformat": 4,
 "nbformat_minor": 5
}
